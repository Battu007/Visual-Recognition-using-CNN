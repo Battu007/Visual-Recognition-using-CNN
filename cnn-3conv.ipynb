{
 "cells": [
  {
   "cell_type": "code",
   "execution_count": 4,
   "metadata": {
    "collapsed": true
   },
   "outputs": [],
   "source": [
    "## CNN with 3 Convolutional Layers"
   ]
  },
  {
   "cell_type": "code",
   "execution_count": 5,
   "metadata": {},
   "outputs": [],
   "source": [
    "import keras\n",
    "from keras.datasets import mnist\n",
    "from keras.models import Sequential\n",
    "from keras.layers import Dense, Dropout, Flatten, Lambda\n",
    "from keras.layers import Conv2D, MaxPooling2D, BatchNormalization\n",
    "from keras.optimizers import Adam\n",
    "import matplotlib.pyplot as plt\n",
    "import matplotlib.image as mpimg\n",
    "from keras.preprocessing.image import ImageDataGenerator\n",
    "import numpy as np\n",
    "import pandas as pd\n",
    "np.random.seed(12345)\n",
    "%matplotlib inline"
   ]
  },
  {
   "cell_type": "code",
   "execution_count": 6,
   "metadata": {
    "collapsed": true
   },
   "outputs": [],
   "source": [
    "train_images_path = keras.utils.get_file('train-images-idx3-ubyte.gz', 'https://raw.githubusercontent.com/zalandoresearch/fashion-mnist/master/data/fashion/train-images-idx3-ubyte.gz')\n",
    "train_labels_path = keras.utils.get_file('train-labels-idx1-ubyte.gz', 'https://raw.githubusercontent.com/zalandoresearch/fashion-mnist/master/data/fashion/train-labels-idx1-ubyte.gz')\n",
    "test_images_path = keras.utils.get_file('t10k-images-idx3-ubyte.gz', 'https://raw.githubusercontent.com/zalandoresearch/fashion-mnist/master/data/fashion/t10k-images-idx3-ubyte.gz')\n",
    "test_labels_path = keras.utils.get_file('t10k-labels-idx1-ubyte.gz', 'https://raw.githubusercontent.com/zalandoresearch/fashion-mnist/master/data/fashion/t10k-labels-idx1-ubyte.gz')\n"
   ]
  },
  {
   "cell_type": "code",
   "execution_count": 7,
   "metadata": {
    "collapsed": true
   },
   "outputs": [],
   "source": [
    "batch_size = 512"
   ]
  },
  {
   "cell_type": "code",
   "execution_count": 8,
   "metadata": {
    "collapsed": true
   },
   "outputs": [],
   "source": [
    "def load_mnist(images_path, labels_path):\n",
    "    import os\n",
    "    import gzip\n",
    "    import numpy as np\n",
    "\n",
    "    with gzip.open(labels_path, 'rb') as lbpath:\n",
    "        labels = np.frombuffer(lbpath.read(), dtype=np.uint8,\n",
    "                               offset=8)\n",
    "\n",
    "    with gzip.open(images_path, 'rb') as imgpath:\n",
    "        images = np.frombuffer(imgpath.read(), dtype=np.uint8,\n",
    "                               offset=16).reshape(len(labels), 784)\n",
    "\n",
    "    return images, labels"
   ]
  },
  {
   "cell_type": "code",
   "execution_count": 9,
   "metadata": {
    "collapsed": true
   },
   "outputs": [],
   "source": [
    "X_train_orig, y_train_orig = load_mnist(train_images_path, train_labels_path)\n",
    "X_test, y_test = load_mnist(test_images_path, test_labels_path)\n",
    "X_train_orig = X_train_orig.astype('float32')\n",
    "X_test = X_test.astype('float32')\n",
    "X_train_orig /= 255\n",
    "X_test /= 255"
   ]
  },
  {
   "cell_type": "code",
   "execution_count": 10,
   "metadata": {},
   "outputs": [
    {
     "name": "stdout",
     "output_type": "stream",
     "text": [
      "(60000, 784)\n",
      "(60000,)\n",
      "(10000, 784)\n",
      "(10000,)\n"
     ]
    }
   ],
   "source": [
    "print(X_train_orig.shape)\n",
    "print(y_train_orig.shape)\n",
    "print(X_test.shape)\n",
    "print(y_test.shape)"
   ]
  },
  {
   "cell_type": "code",
   "execution_count": 11,
   "metadata": {
    "collapsed": true
   },
   "outputs": [],
   "source": [
    "from sklearn.model_selection import train_test_split\n",
    "X_train, X_val, y_train, y_val = train_test_split(X_train_orig, y_train_orig, test_size=0.2, random_state=12345)"
   ]
  },
  {
   "cell_type": "code",
   "execution_count": 12,
   "metadata": {},
   "outputs": [
    {
     "name": "stdout",
     "output_type": "stream",
     "text": [
      "(48000, 784)\n",
      "(48000,)\n",
      "(12000, 784)\n",
      "(12000,)\n"
     ]
    }
   ],
   "source": [
    "print(X_train.shape)\n",
    "print(y_train.shape)\n",
    "print(X_val.shape)\n",
    "print(y_val.shape)"
   ]
  },
  {
   "cell_type": "code",
   "execution_count": 13,
   "metadata": {},
   "outputs": [
    {
     "data": {
      "text/plain": [
       "<matplotlib.image.AxesImage at 0x1a31f9fe10>"
      ]
     },
     "execution_count": 13,
     "metadata": {},
     "output_type": "execute_result"
    },
    {
     "data": {
      "image/png": "[encoded data removed]",
      "text/plain": [
       "<matplotlib.figure.Figure at 0x1817dde048>"
      ]
     },
     "metadata": {},
     "output_type": "display_data"
    }
   ],
   "source": [
    "plt.imshow(X_train[1, :].reshape((28, 28)))"
   ]
  },
  {
   "cell_type": "code",
   "execution_count": 14,
   "metadata": {
    "collapsed": true
   },
   "outputs": [],
   "source": [
    "img_rows = 28\n",
    "img_cols = 28\n",
    "input_shape = (img_rows, img_cols, 1)\n",
    "X_train = X_train.reshape(X_train.shape[0], img_rows, img_cols, 1)\n",
    "X_test = X_test.reshape(X_test.shape[0], img_rows, img_cols, 1)\n",
    "X_val = X_val.reshape(X_val.shape[0], img_rows, img_cols, 1)"
   ]
  },
  {
   "cell_type": "code",
   "execution_count": 15,
   "metadata": {
    "collapsed": true
   },
   "outputs": [],
   "source": [
    "# CNN with 3 Convolutional Layers"
   ]
  },
  {
   "cell_type": "code",
   "execution_count": 16,
   "metadata": {},
   "outputs": [],
   "source": [
    "cnn2 = Sequential([\n",
    "    Conv2D(32, kernel_size=(3, 3), activation='relu', input_shape=input_shape),\n",
    "    MaxPooling2D(pool_size=(2, 2)),\n",
    "    Dropout(0.2),\n",
    "\n",
    "    Conv2D(64, kernel_size=(3, 3), activation='relu'),\n",
    "    MaxPooling2D(pool_size=(2, 2)),\n",
    "    Dropout(0.2),\n",
    "\n",
    "    Conv2D(128, kernel_size=(3, 3), activation='relu'),\n",
    "    Dropout(0.2),\n",
    "\n",
    "    Flatten(),\n",
    "\n",
    "    Dense(128, activation='relu'),\n",
    "    Dropout(0.2),\n",
    "    Dense(10, activation='softmax')])\n"
   ]
  },
  {
   "cell_type": "code",
   "execution_count": 17,
   "metadata": {
    "collapsed": true
   },
   "outputs": [],
   "source": [
    "cnn2.compile(loss='sparse_categorical_crossentropy',\n",
    "              optimizer=Adam(lr=0.001),\n",
    "              metrics=['accuracy'])"
   ]
  },
  {
   "cell_type": "code",
   "execution_count": 18,
   "metadata": {},
   "outputs": [
    {
     "name": "stdout",
     "output_type": "stream",
     "text": [
      "Train on 48000 samples, validate on 12000 samples\n",
      "Epoch 1/10\n",
      "48000/48000 [==============================] - 107s 2ms/step - loss: 0.9339 - acc: 0.6526 - val_loss: 0.5534 - val_acc: 0.7863\n",
      "Epoch 2/10\n",
      "48000/48000 [==============================] - 105s 2ms/step - loss: 0.5553 - acc: 0.7890 - val_loss: 0.4435 - val_acc: 0.8358\n",
      "Epoch 3/10\n",
      "48000/48000 [==============================] - 103s 2ms/step - loss: 0.4776 - acc: 0.8221 - val_loss: 0.3985 - val_acc: 0.8570\n",
      "Epoch 4/10\n",
      "48000/48000 [==============================] - 90s 2ms/step - loss: 0.4268 - acc: 0.8425 - val_loss: 0.3546 - val_acc: 0.8758\n",
      "Epoch 5/10\n",
      "48000/48000 [==============================] - 85s 2ms/step - loss: 0.3944 - acc: 0.8564 - val_loss: 0.3250 - val_acc: 0.8848\n",
      "Epoch 6/10\n",
      "48000/48000 [==============================] - 88s 2ms/step - loss: 0.3726 - acc: 0.8614 - val_loss: 0.3084 - val_acc: 0.8909\n",
      "Epoch 7/10\n",
      "48000/48000 [==============================] - 96s 2ms/step - loss: 0.3560 - acc: 0.8688 - val_loss: 0.2956 - val_acc: 0.8948\n",
      "Epoch 8/10\n",
      "48000/48000 [==============================] - 86s 2ms/step - loss: 0.3349 - acc: 0.8783 - val_loss: 0.2804 - val_acc: 0.8997\n",
      "Epoch 9/10\n",
      "48000/48000 [==============================] - 85s 2ms/step - loss: 0.3234 - acc: 0.8801 - val_loss: 0.2776 - val_acc: 0.8992\n",
      "Epoch 10/10\n",
      "48000/48000 [==============================] - 86s 2ms/step - loss: 0.3127 - acc: 0.8845 - val_loss: 0.2744 - val_acc: 0.9030\n"
     ]
    },
    {
     "data": {
      "text/plain": [
       "<keras.callbacks.History at 0x1a326466a0>"
      ]
     },
     "execution_count": 18,
     "metadata": {},
     "output_type": "execute_result"
    }
   ],
   "source": [
    "cnn2.fit(X_train, y_train,\n",
    "          batch_size=batch_size,\n",
    "          epochs=10,\n",
    "          verbose=1,\n",
    "          validation_data=(X_val, y_val))"
   ]
  },
  {
   "cell_type": "code",
   "execution_count": 19,
   "metadata": {
    "collapsed": true
   },
   "outputs": [],
   "source": [
    "cnn2.optimizer.lr = 0.0001"
   ]
  },
  {
   "cell_type": "code",
   "execution_count": 20,
   "metadata": {},
   "outputs": [
    {
     "name": "stdout",
     "output_type": "stream",
     "text": [
      "Train on 48000 samples, validate on 12000 samples\n",
      "Epoch 1/10\n",
      "48000/48000 [==============================] - 41s 848us/step - loss: 0.3025 - acc: 0.8873 - val_loss: 0.2638 - val_acc: 0.9045\n",
      "Epoch 2/10\n",
      "48000/48000 [==============================] - 41s 848us/step - loss: 0.2929 - acc: 0.8908 - val_loss: 0.2605 - val_acc: 0.9066\n",
      "Epoch 3/10\n",
      "48000/48000 [==============================] - 41s 846us/step - loss: 0.2794 - acc: 0.8956 - val_loss: 0.2546 - val_acc: 0.9078\n",
      "Epoch 4/10\n",
      "48000/48000 [==============================] - 41s 855us/step - loss: 0.2763 - acc: 0.8975 - val_loss: 0.2478 - val_acc: 0.9118\n",
      "Epoch 5/10\n",
      "48000/48000 [==============================] - 41s 855us/step - loss: 0.2725 - acc: 0.8989 - val_loss: 0.2482 - val_acc: 0.9077\n",
      "Epoch 6/10\n",
      "48000/48000 [==============================] - 41s 860us/step - loss: 0.2628 - acc: 0.8998 - val_loss: 0.2414 - val_acc: 0.9127\n",
      "Epoch 7/10\n",
      "48000/48000 [==============================] - 41s 863us/step - loss: 0.2603 - acc: 0.9031 - val_loss: 0.2401 - val_acc: 0.9110\n",
      "Epoch 8/10\n",
      "48000/48000 [==============================] - 42s 868us/step - loss: 0.2561 - acc: 0.9036 - val_loss: 0.2310 - val_acc: 0.9173\n",
      "Epoch 9/10\n",
      "48000/48000 [==============================] - 41s 864us/step - loss: 0.2470 - acc: 0.9082 - val_loss: 0.2477 - val_acc: 0.9082\n",
      "Epoch 10/10\n",
      "48000/48000 [==============================] - 42s 870us/step - loss: 0.2421 - acc: 0.9107 - val_loss: 0.2298 - val_acc: 0.9175\n"
     ]
    },
    {
     "data": {
      "text/plain": [
       "<keras.callbacks.History at 0x1a32bcdb70>"
      ]
     },
     "execution_count": 20,
     "metadata": {},
     "output_type": "execute_result"
    }
   ],
   "source": [
    "cnn2.fit(X_train, y_train,\n",
    "          batch_size=batch_size,\n",
    "          epochs=10,\n",
    "          verbose=1,\n",
    "          validation_data=(X_val, y_val))"
   ]
  },
  {
   "cell_type": "code",
   "execution_count": 21,
   "metadata": {},
   "outputs": [
    {
     "name": "stdout",
     "output_type": "stream",
     "text": [
      "Test loss: 0.25669838305711745\n",
      "Test accuracy: 0.9059\n"
     ]
    }
   ],
   "source": [
    "score = cnn2.evaluate(X_test, y_test, verbose=0)\n",
    "print('Test loss:', score[0])\n",
    "print('Test accuracy:', score[1])"
   ]
  },
  {
   "cell_type": "code",
   "execution_count": 23,
   "metadata": {},
   "outputs": [],
   "source": [
    "# Data Augmentation"
   ]
  },
  {
   "cell_type": "code",
   "execution_count": 24,
   "metadata": {
    "collapsed": true
   },
   "outputs": [],
   "source": [
    "gen = ImageDataGenerator(rotation_range=8, width_shift_range=0.08, shear_range=0.3,\n",
    "                               height_shift_range=0.08, zoom_range=0.08)\n",
    "batches = gen.flow(X_train, y_train, batch_size=batch_size)\n",
    "val_batches = gen.flow(X_val, y_val, batch_size=batch_size)\n"
   ]
  },
  {
   "cell_type": "code",
   "execution_count": 25,
   "metadata": {},
   "outputs": [
    {
     "name": "stdout",
     "output_type": "stream",
     "text": [
      "Epoch 1/50\n",
      "93/93 [==============================] - 50s 538ms/step - loss: 0.4376 - acc: 0.8340 - val_loss: 0.3504 - val_acc: 0.8695\n",
      "Epoch 2/50\n",
      "93/93 [==============================] - 46s 490ms/step - loss: 0.3976 - acc: 0.8517 - val_loss: 0.3414 - val_acc: 0.8722\n",
      "Epoch 3/50\n",
      "93/93 [==============================] - 44s 472ms/step - loss: 0.3918 - acc: 0.8518 - val_loss: 0.3265 - val_acc: 0.8761\n",
      "Epoch 4/50\n",
      "93/93 [==============================] - 44s 472ms/step - loss: 0.3657 - acc: 0.8625 - val_loss: 0.3176 - val_acc: 0.8833\n",
      "Epoch 5/50\n",
      "93/93 [==============================] - 44s 472ms/step - loss: 0.3642 - acc: 0.8650 - val_loss: 0.3028 - val_acc: 0.8891\n",
      "Epoch 6/50\n",
      "93/93 [==============================] - 44s 473ms/step - loss: 0.3571 - acc: 0.8664 - val_loss: 0.3104 - val_acc: 0.8821\n",
      "Epoch 7/50\n",
      "93/93 [==============================] - 44s 473ms/step - loss: 0.3528 - acc: 0.8680 - val_loss: 0.3076 - val_acc: 0.8894\n",
      "Epoch 8/50\n",
      "93/93 [==============================] - 44s 473ms/step - loss: 0.3478 - acc: 0.8711 - val_loss: 0.3034 - val_acc: 0.8882\n",
      "Epoch 9/50\n",
      "93/93 [==============================] - 54s 576ms/step - loss: 0.3424 - acc: 0.8713 - val_loss: 0.2968 - val_acc: 0.8902\n",
      "Epoch 10/50\n",
      "93/93 [==============================] - 46s 489ms/step - loss: 0.3330 - acc: 0.8743 - val_loss: 0.2875 - val_acc: 0.8916\n",
      "Epoch 11/50\n",
      "93/93 [==============================] - 50s 537ms/step - loss: 0.3293 - acc: 0.8760 - val_loss: 0.2837 - val_acc: 0.8955\n",
      "Epoch 12/50\n",
      "93/93 [==============================] - 46s 494ms/step - loss: 0.3243 - acc: 0.8771 - val_loss: 0.2829 - val_acc: 0.8942\n",
      "Epoch 13/50\n",
      "93/93 [==============================] - 44s 478ms/step - loss: 0.3273 - acc: 0.8774 - val_loss: 0.2858 - val_acc: 0.8960\n",
      "Epoch 14/50\n",
      "93/93 [==============================] - 45s 480ms/step - loss: 0.3150 - acc: 0.8822 - val_loss: 0.2806 - val_acc: 0.8946\n",
      "Epoch 15/50\n",
      "93/93 [==============================] - 44s 478ms/step - loss: 0.3185 - acc: 0.8788 - val_loss: 0.2749 - val_acc: 0.8968\n",
      "Epoch 16/50\n",
      "93/93 [==============================] - 44s 478ms/step - loss: 0.3182 - acc: 0.8820 - val_loss: 0.2740 - val_acc: 0.8977\n",
      "Epoch 17/50\n",
      "93/93 [==============================] - 45s 482ms/step - loss: 0.3145 - acc: 0.8829 - val_loss: 0.2719 - val_acc: 0.8977\n",
      "Epoch 18/50\n",
      "93/93 [==============================] - 45s 480ms/step - loss: 0.3122 - acc: 0.8830 - val_loss: 0.2786 - val_acc: 0.8962\n",
      "Epoch 19/50\n",
      "93/93 [==============================] - 45s 483ms/step - loss: 0.3057 - acc: 0.8855 - val_loss: 0.2610 - val_acc: 0.9069\n",
      "Epoch 20/50\n",
      "93/93 [==============================] - 45s 485ms/step - loss: 0.3092 - acc: 0.8845 - val_loss: 0.2669 - val_acc: 0.9001\n",
      "Epoch 21/50\n",
      "93/93 [==============================] - 45s 482ms/step - loss: 0.3033 - acc: 0.8866 - val_loss: 0.2790 - val_acc: 0.8941\n",
      "Epoch 22/50\n",
      "93/93 [==============================] - 46s 489ms/step - loss: 0.3005 - acc: 0.8872 - val_loss: 0.2621 - val_acc: 0.9058\n",
      "Epoch 23/50\n",
      "93/93 [==============================] - 45s 483ms/step - loss: 0.2989 - acc: 0.8894 - val_loss: 0.2578 - val_acc: 0.9045\n",
      "Epoch 24/50\n",
      "93/93 [==============================] - 45s 486ms/step - loss: 0.2968 - acc: 0.8883 - val_loss: 0.2595 - val_acc: 0.9050\n",
      "Epoch 25/50\n",
      "93/93 [==============================] - 45s 485ms/step - loss: 0.2954 - acc: 0.8889 - val_loss: 0.2594 - val_acc: 0.9043\n",
      "Epoch 26/50\n",
      "93/93 [==============================] - 45s 485ms/step - loss: 0.2959 - acc: 0.8896 - val_loss: 0.2597 - val_acc: 0.9041\n",
      "Epoch 27/50\n",
      "93/93 [==============================] - 45s 485ms/step - loss: 0.2950 - acc: 0.8892 - val_loss: 0.2580 - val_acc: 0.9046\n",
      "Epoch 28/50\n",
      "93/93 [==============================] - 46s 491ms/step - loss: 0.2910 - acc: 0.8922 - val_loss: 0.2634 - val_acc: 0.9036\n",
      "Epoch 29/50\n",
      "93/93 [==============================] - 45s 485ms/step - loss: 0.2906 - acc: 0.8906 - val_loss: 0.2541 - val_acc: 0.9053\n",
      "Epoch 30/50\n",
      "93/93 [==============================] - 45s 486ms/step - loss: 0.2922 - acc: 0.8900 - val_loss: 0.2664 - val_acc: 0.9013\n",
      "Epoch 31/50\n",
      "93/93 [==============================] - 45s 487ms/step - loss: 0.2893 - acc: 0.8920 - val_loss: 0.2560 - val_acc: 0.9057\n",
      "Epoch 32/50\n",
      "93/93 [==============================] - 45s 486ms/step - loss: 0.2836 - acc: 0.8943 - val_loss: 0.2590 - val_acc: 0.9005\n",
      "Epoch 33/50\n",
      "93/93 [==============================] - 55s 593ms/step - loss: 0.2841 - acc: 0.8933 - val_loss: 0.2505 - val_acc: 0.9063\n",
      "Epoch 34/50\n",
      "93/93 [==============================] - 62s 668ms/step - loss: 0.2829 - acc: 0.8937 - val_loss: 0.2528 - val_acc: 0.9065\n",
      "Epoch 35/50\n",
      "93/93 [==============================] - 59s 630ms/step - loss: 0.2813 - acc: 0.8950 - val_loss: 0.2504 - val_acc: 0.9068\n",
      "Epoch 36/50\n",
      "93/93 [==============================] - 43s 464ms/step - loss: 0.2776 - acc: 0.8965 - val_loss: 0.2631 - val_acc: 0.9017\n",
      "Epoch 37/50\n",
      "93/93 [==============================] - 44s 474ms/step - loss: 0.2783 - acc: 0.8958 - val_loss: 0.2567 - val_acc: 0.9040\n",
      "Epoch 38/50\n",
      "93/93 [==============================] - 43s 463ms/step - loss: 0.2805 - acc: 0.8946 - val_loss: 0.2459 - val_acc: 0.9101\n",
      "Epoch 39/50\n",
      "93/93 [==============================] - 47s 502ms/step - loss: 0.2804 - acc: 0.8958 - val_loss: 0.2456 - val_acc: 0.9077\n",
      "Epoch 40/50\n",
      "93/93 [==============================] - 46s 493ms/step - loss: 0.2718 - acc: 0.8983 - val_loss: 0.2480 - val_acc: 0.9078\n",
      "Epoch 41/50\n",
      "93/93 [==============================] - 45s 482ms/step - loss: 0.2739 - acc: 0.8970 - val_loss: 0.2454 - val_acc: 0.9085\n",
      "Epoch 42/50\n",
      "93/93 [==============================] - 45s 482ms/step - loss: 0.2742 - acc: 0.8976 - val_loss: 0.2414 - val_acc: 0.9113\n",
      "Epoch 43/50\n",
      "93/93 [==============================] - 61s 657ms/step - loss: 0.2740 - acc: 0.8969 - val_loss: 0.2409 - val_acc: 0.9085\n",
      "Epoch 44/50\n",
      "93/93 [==============================] - 83s 889ms/step - loss: 0.2717 - acc: 0.8980 - val_loss: 0.2519 - val_acc: 0.9076\n",
      "Epoch 45/50\n",
      "93/93 [==============================] - 81s 868ms/step - loss: 0.2713 - acc: 0.8982 - val_loss: 0.2511 - val_acc: 0.9072\n",
      "Epoch 46/50\n",
      "93/93 [==============================] - 82s 884ms/step - loss: 0.2633 - acc: 0.9009 - val_loss: 0.2389 - val_acc: 0.9090\n",
      "Epoch 47/50\n",
      "93/93 [==============================] - 82s 884ms/step - loss: 0.2647 - acc: 0.9000 - val_loss: 0.2452 - val_acc: 0.9076\n",
      "Epoch 48/50\n",
      "93/93 [==============================] - 81s 871ms/step - loss: 0.2746 - acc: 0.8968 - val_loss: 0.2460 - val_acc: 0.9124\n",
      "Epoch 49/50\n",
      "93/93 [==============================] - 81s 868ms/step - loss: 0.2701 - acc: 0.8997 - val_loss: 0.2398 - val_acc: 0.9104\n",
      "Epoch 50/50\n",
      "93/93 [==============================] - 80s 864ms/step - loss: 0.2583 - acc: 0.9025 - val_loss: 0.2441 - val_acc: 0.9108\n"
     ]
    },
    {
     "data": {
      "text/plain": [
       "<keras.callbacks.History at 0x1a32bcd6d8>"
      ]
     },
     "execution_count": 25,
     "metadata": {},
     "output_type": "execute_result"
    }
   ],
   "source": [
    "cnn2.fit_generator(batches, steps_per_epoch=48000//batch_size, epochs=50,\n",
    "                    validation_data=val_batches, validation_steps=12000//batch_size, use_multiprocessing=True)"
   ]
  },
  {
   "cell_type": "code",
   "execution_count": 26,
   "metadata": {},
   "outputs": [
    {
     "name": "stdout",
     "output_type": "stream",
     "text": [
      "Test loss: 0.246803956669569\n",
      "Test accuracy: 0.9083\n"
     ]
    }
   ],
   "source": [
    "score = cnn2.evaluate(X_test, y_test, verbose=0)\n",
    "print('Test loss:', score[0])\n",
    "print('Test accuracy:', score[1])"
   ]
  },
  {
   "cell_type": "code",
   "execution_count": 27,
   "metadata": {},
   "outputs": [
    {
     "name": "stdout",
     "output_type": "stream",
     "text": [
      "_________________________________________________________________\n",
      "Layer (type)                 Output Shape              Param #   \n",
      "=================================================================\n",
      "conv2d_1 (Conv2D)            (None, 26, 26, 32)        320       \n",
      "_________________________________________________________________\n",
      "max_pooling2d_1 (MaxPooling2 (None, 13, 13, 32)        0         \n",
      "_________________________________________________________________\n",
      "dropout_1 (Dropout)          (None, 13, 13, 32)        0         \n",
      "_________________________________________________________________\n",
      "conv2d_2 (Conv2D)            (None, 11, 11, 64)        18496     \n",
      "_________________________________________________________________\n",
      "max_pooling2d_2 (MaxPooling2 (None, 5, 5, 64)          0         \n",
      "_________________________________________________________________\n",
      "dropout_2 (Dropout)          (None, 5, 5, 64)          0         \n",
      "_________________________________________________________________\n",
      "conv2d_3 (Conv2D)            (None, 3, 3, 128)         73856     \n",
      "_________________________________________________________________\n",
      "dropout_3 (Dropout)          (None, 3, 3, 128)         0         \n",
      "_________________________________________________________________\n",
      "flatten_1 (Flatten)          (None, 1152)              0         \n",
      "_________________________________________________________________\n",
      "dense_1 (Dense)              (None, 128)               147584    \n",
      "_________________________________________________________________\n",
      "dropout_4 (Dropout)          (None, 128)               0         \n",
      "_________________________________________________________________\n",
      "dense_2 (Dense)              (None, 10)                1290      \n",
      "=================================================================\n",
      "Total params: 241,546\n",
      "Trainable params: 241,546\n",
      "Non-trainable params: 0\n",
      "_________________________________________________________________\n"
     ]
    }
   ],
   "source": [
    "cnn2.summary()"
   ]
  },
  {
   "cell_type": "code",
   "execution_count": null,
   "metadata": {
    "collapsed": true
   },
   "outputs": [],
   "source": []
  }
 ],
 "metadata": {
  "kernelspec": {
   "display_name": "Python 3",
   "language": "python",
   "name": "python3"
  },
  "language_info": {
   "codemirror_mode": {
    "name": "ipython",
    "version": 3
   },
   "file_extension": ".py",
   "mimetype": "text/x-python",
   "name": "python",
   "nbconvert_exporter": "python",
   "pygments_lexer": "ipython3",
   "version": "3.6.3"
  }
 },
 "nbformat": 4,
 "nbformat_minor": 2
}
