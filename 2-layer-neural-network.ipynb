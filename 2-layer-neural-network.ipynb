{
 "cells": [
  {
   "cell_type": "code",
   "execution_count": null,
   "metadata": {
    "collapsed": true
   },
   "outputs": [],
   "source": []
  },
  {
   "cell_type": "code",
   "execution_count": 1,
   "metadata": {},
   "outputs": [
    {
     "name": "stderr",
     "output_type": "stream",
     "text": [
      "/Users/pradeepsingh/anaconda3/lib/python3.6/site-packages/h5py/__init__.py:34: FutureWarning: Conversion of the second argument of issubdtype from `float` to `np.floating` is deprecated. In future, it will be treated as `np.float64 == np.dtype(float).type`.\n",
      "  from ._conv import register_converters as _register_converters\n",
      "Using TensorFlow backend.\n"
     ]
    }
   ],
   "source": [
    "import keras\n",
    "from keras.datasets import mnist\n",
    "from keras.models import Sequential\n",
    "from keras.layers import Dense, Dropout, Flatten, Lambda\n",
    "from keras.layers import Conv2D, MaxPooling2D, BatchNormalization\n",
    "from keras.optimizers import Adam\n",
    "import matplotlib.pyplot as plt\n",
    "import matplotlib.image as mpimg\n",
    "from keras.preprocessing.image import ImageDataGenerator\n",
    "import numpy as np\n",
    "import pandas as pd\n",
    "np.random.seed(12345)\n",
    "%matplotlib inline\n"
   ]
  },
  {
   "cell_type": "code",
   "execution_count": 2,
   "metadata": {
    "collapsed": true
   },
   "outputs": [],
   "source": [
    "# Downlaod and load the data\n",
    "batch_size = 512\n",
    "\n",
    "train_images_path = keras.utils.get_file('train-images-idx3-ubyte.gz', 'https://raw.githubusercontent.com/zalandoresearch/fashion-mnist/master/data/fashion/train-images-idx3-ubyte.gz')\n",
    "train_labels_path = keras.utils.get_file('train-labels-idx1-ubyte.gz', 'https://raw.githubusercontent.com/zalandoresearch/fashion-mnist/master/data/fashion/train-labels-idx1-ubyte.gz')\n",
    "test_images_path = keras.utils.get_file('t10k-images-idx3-ubyte.gz', 'https://raw.githubusercontent.com/zalandoresearch/fashion-mnist/master/data/fashion/t10k-images-idx3-ubyte.gz')\n",
    "test_labels_path = keras.utils.get_file('t10k-labels-idx1-ubyte.gz', 'https://raw.githubusercontent.com/zalandoresearch/fashion-mnist/master/data/fashion/t10k-labels-idx1-ubyte.gz')\n"
   ]
  },
  {
   "cell_type": "code",
   "execution_count": 3,
   "metadata": {
    "collapsed": true
   },
   "outputs": [],
   "source": [
    "def load_mnist(images_path, labels_path):\n",
    "    import os\n",
    "    import gzip\n",
    "    import numpy as np\n",
    "\n",
    "    with gzip.open(labels_path, 'rb') as lbpath:\n",
    "        labels = np.frombuffer(lbpath.read(), dtype=np.uint8,\n",
    "                               offset=8)\n",
    "\n",
    "    with gzip.open(images_path, 'rb') as imgpath:\n",
    "        images = np.frombuffer(imgpath.read(), dtype=np.uint8,\n",
    "                               offset=16).reshape(len(labels), 784)\n",
    "\n",
    "    return images, labels\n"
   ]
  },
  {
   "cell_type": "code",
   "execution_count": 4,
   "metadata": {
    "collapsed": true
   },
   "outputs": [],
   "source": [
    "X_train_orig, y_train_orig = load_mnist(train_images_path, train_labels_path)\n",
    "X_test, y_test = load_mnist(test_images_path, test_labels_path)\n",
    "X_train_orig = X_train_orig.astype('float32')\n",
    "X_test = X_test.astype('float32')\n",
    "X_train_orig /= 255\n",
    "X_test /= 255"
   ]
  },
  {
   "cell_type": "code",
   "execution_count": 5,
   "metadata": {},
   "outputs": [
    {
     "name": "stdout",
     "output_type": "stream",
     "text": [
      "(60000, 784)\n",
      "(60000,)\n",
      "(10000, 784)\n",
      "(10000,)\n"
     ]
    }
   ],
   "source": [
    "print(X_train_orig.shape)\n",
    "print(y_train_orig.shape)\n",
    "print(X_test.shape)\n",
    "print(y_test.shape)\n"
   ]
  },
  {
   "cell_type": "code",
   "execution_count": 6,
   "metadata": {
    "collapsed": true
   },
   "outputs": [],
   "source": [
    "from sklearn.model_selection import train_test_split\n",
    "X_train, X_val, y_train, y_val = train_test_split(X_train_orig, y_train_orig, test_size=0.2, random_state=12345)\n"
   ]
  },
  {
   "cell_type": "code",
   "execution_count": 7,
   "metadata": {},
   "outputs": [
    {
     "name": "stdout",
     "output_type": "stream",
     "text": [
      "(48000, 784)\n",
      "(48000,)\n",
      "(12000, 784)\n",
      "(12000,)\n"
     ]
    }
   ],
   "source": [
    "print(X_train.shape)\n",
    "print(y_train.shape)\n",
    "print(X_val.shape)\n",
    "print(y_val.shape)\n"
   ]
  },
  {
   "cell_type": "code",
   "execution_count": 8,
   "metadata": {},
   "outputs": [
    {
     "data": {
      "text/plain": [
       "<matplotlib.image.AxesImage at 0x1a308648d0>"
      ]
     },
     "execution_count": 8,
     "metadata": {},
     "output_type": "execute_result"
    },
    {
     "data": {
      "image/png": "[encoded data removed]",
      "text/plain": [
       "<matplotlib.figure.Figure at 0x181668a550>"
      ]
     },
     "metadata": {},
     "output_type": "display_data"
    }
   ],
   "source": [
    "plt.imshow(X_train[1, :].reshape((28, 28)))"
   ]
  },
  {
   "cell_type": "code",
   "execution_count": 9,
   "metadata": {
    "collapsed": true
   },
   "outputs": [],
   "source": [
    "## 2 Layer Neural Network"
   ]
  },
  {
   "cell_type": "code",
   "execution_count": 11,
   "metadata": {
    "collapsed": true
   },
   "outputs": [],
   "source": [
    "model = Sequential([\n",
    "    Dense(512, input_shape=(784,), activation='relu'),\n",
    "    Dense(128, activation = 'relu'),\n",
    "    Dense(10, activation='softmax')])"
   ]
  },
  {
   "cell_type": "code",
   "execution_count": 12,
   "metadata": {},
   "outputs": [
    {
     "name": "stdout",
     "output_type": "stream",
     "text": [
      "_________________________________________________________________\n",
      "Layer (type)                 Output Shape              Param #   \n",
      "=================================================================\n",
      "dense_4 (Dense)              (None, 512)               401920    \n",
      "_________________________________________________________________\n",
      "dense_5 (Dense)              (None, 128)               65664     \n",
      "_________________________________________________________________\n",
      "dense_6 (Dense)              (None, 10)                1290      \n",
      "=================================================================\n",
      "Total params: 468,874\n",
      "Trainable params: 468,874\n",
      "Non-trainable params: 0\n",
      "_________________________________________________________________\n"
     ]
    }
   ],
   "source": [
    "model.summary()"
   ]
  },
  {
   "cell_type": "code",
   "execution_count": 13,
   "metadata": {
    "collapsed": true
   },
   "outputs": [],
   "source": [
    "model.compile(optimizer=Adam(lr=0.001),\n",
    "              loss='sparse_categorical_crossentropy',\n",
    "              metrics=['accuracy'])"
   ]
  },
  {
   "cell_type": "code",
   "execution_count": 14,
   "metadata": {},
   "outputs": [
    {
     "name": "stdout",
     "output_type": "stream",
     "text": [
      "Train on 48000 samples, validate on 12000 samples\n",
      "Epoch 1/20\n",
      "48000/48000 [==============================] - 3s 72us/step - loss: 0.6246 - acc: 0.7825 - val_loss: 0.4235 - val_acc: 0.8542\n",
      "Epoch 2/20\n",
      "48000/48000 [==============================] - 3s 62us/step - loss: 0.4133 - acc: 0.8535 - val_loss: 0.3755 - val_acc: 0.8721\n",
      "Epoch 3/20\n",
      "48000/48000 [==============================] - 3s 63us/step - loss: 0.3698 - acc: 0.8662 - val_loss: 0.3677 - val_acc: 0.8717\n",
      "Epoch 4/20\n",
      "48000/48000 [==============================] - 3s 65us/step - loss: 0.3340 - acc: 0.8785 - val_loss: 0.3551 - val_acc: 0.8793\n",
      "Epoch 5/20\n",
      "48000/48000 [==============================] - 3s 68us/step - loss: 0.3169 - acc: 0.8856 - val_loss: 0.3094 - val_acc: 0.8907\n",
      "Epoch 6/20\n",
      "48000/48000 [==============================] - 3s 67us/step - loss: 0.3004 - acc: 0.8901 - val_loss: 0.3082 - val_acc: 0.8931\n",
      "Epoch 7/20\n",
      "48000/48000 [==============================] - 3s 68us/step - loss: 0.2816 - acc: 0.8970 - val_loss: 0.3068 - val_acc: 0.8892\n",
      "Epoch 8/20\n",
      "48000/48000 [==============================] - 3s 71us/step - loss: 0.2695 - acc: 0.9014 - val_loss: 0.2914 - val_acc: 0.8951\n",
      "Epoch 9/20\n",
      "48000/48000 [==============================] - 3s 57us/step - loss: 0.2583 - acc: 0.9045 - val_loss: 0.3058 - val_acc: 0.8897\n",
      "Epoch 10/20\n",
      "48000/48000 [==============================] - 3s 58us/step - loss: 0.2517 - acc: 0.9065 - val_loss: 0.2874 - val_acc: 0.8968\n",
      "Epoch 11/20\n",
      "48000/48000 [==============================] - 3s 56us/step - loss: 0.2370 - acc: 0.9121 - val_loss: 0.2850 - val_acc: 0.8977\n",
      "Epoch 12/20\n",
      "48000/48000 [==============================] - 4s 75us/step - loss: 0.2285 - acc: 0.9159 - val_loss: 0.2821 - val_acc: 0.9012\n",
      "Epoch 13/20\n",
      "48000/48000 [==============================] - 4s 77us/step - loss: 0.2196 - acc: 0.9189 - val_loss: 0.2856 - val_acc: 0.8997\n",
      "Epoch 14/20\n",
      "48000/48000 [==============================] - 4s 75us/step - loss: 0.2120 - acc: 0.9222 - val_loss: 0.2956 - val_acc: 0.8922\n",
      "Epoch 15/20\n",
      "48000/48000 [==============================] - 3s 57us/step - loss: 0.2022 - acc: 0.9249 - val_loss: 0.2939 - val_acc: 0.8973\n",
      "Epoch 16/20\n",
      "48000/48000 [==============================] - 3s 66us/step - loss: 0.1959 - acc: 0.9273 - val_loss: 0.2780 - val_acc: 0.9014\n",
      "Epoch 17/20\n",
      "48000/48000 [==============================] - 3s 56us/step - loss: 0.1894 - acc: 0.9313 - val_loss: 0.2880 - val_acc: 0.8980\n",
      "Epoch 18/20\n",
      "48000/48000 [==============================] - 3s 60us/step - loss: 0.1826 - acc: 0.9337 - val_loss: 0.2768 - val_acc: 0.9044\n",
      "Epoch 19/20\n",
      "48000/48000 [==============================] - 3s 56us/step - loss: 0.1749 - acc: 0.9348 - val_loss: 0.2877 - val_acc: 0.9048\n",
      "Epoch 20/20\n",
      "48000/48000 [==============================] - 3s 55us/step - loss: 0.1696 - acc: 0.9374 - val_loss: 0.2879 - val_acc: 0.9020\n"
     ]
    }
   ],
   "source": [
    "history = model.fit(X_train, y_train,\n",
    "                    batch_size=batch_size,\n",
    "                    epochs=20,\n",
    "                    verbose=1,\n",
    "                    validation_data=(X_val, y_val))"
   ]
  },
  {
   "cell_type": "code",
   "execution_count": 15,
   "metadata": {},
   "outputs": [
    {
     "name": "stdout",
     "output_type": "stream",
     "text": [
      "Test loss: 0.3352417961716652\n",
      "Test accuracy: 0.8902\n"
     ]
    }
   ],
   "source": [
    "score = model.evaluate(X_test, y_test, verbose=0)\n",
    "print('Test loss:', score[0])\n",
    "print('Test accuracy:', score[1])\n"
   ]
  },
  {
   "cell_type": "code",
   "execution_count": null,
   "metadata": {
    "collapsed": true
   },
   "outputs": [],
   "source": []
  }
 ],
 "metadata": {
  "kernelspec": {
   "display_name": "Python 3",
   "language": "python",
   "name": "python3"
  },
  "language_info": {
   "codemirror_mode": {
    "name": "ipython",
    "version": 3
   },
   "file_extension": ".py",
   "mimetype": "text/x-python",
   "name": "python",
   "nbconvert_exporter": "python",
   "pygments_lexer": "ipython3",
   "version": "3.6.3"
  }
 },
 "nbformat": 4,
 "nbformat_minor": 2
}
