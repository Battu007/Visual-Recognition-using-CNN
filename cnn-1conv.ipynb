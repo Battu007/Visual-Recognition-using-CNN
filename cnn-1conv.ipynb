{
 "cells": [
  {
   "cell_type": "code",
   "execution_count": null,
   "metadata": {
    "collapsed": true
   },
   "outputs": [],
   "source": [
    "# CNN with 1 Convolutional Layer"
   ]
  },
  {
   "cell_type": "code",
   "execution_count": 1,
   "metadata": {},
   "outputs": [
    {
     "name": "stderr",
     "output_type": "stream",
     "text": [
      "/Users/pradeepsingh/anaconda3/lib/python3.6/site-packages/h5py/__init__.py:34: FutureWarning: Conversion of the second argument of issubdtype from `float` to `np.floating` is deprecated. In future, it will be treated as `np.float64 == np.dtype(float).type`.\n",
      "  from ._conv import register_converters as _register_converters\n",
      "Using TensorFlow backend.\n"
     ]
    }
   ],
   "source": [
    "import keras\n",
    "from keras.datasets import mnist\n",
    "from keras.models import Sequential\n",
    "from keras.layers import Dense, Dropout, Flatten, Lambda\n",
    "from keras.layers import Conv2D, MaxPooling2D, BatchNormalization\n",
    "from keras.optimizers import Adam\n",
    "import matplotlib.pyplot as plt\n",
    "import matplotlib.image as mpimg\n",
    "from keras.preprocessing.image import ImageDataGenerator\n",
    "import numpy as np\n",
    "import pandas as pd\n",
    "np.random.seed(12345)\n",
    "%matplotlib inline\n"
   ]
  },
  {
   "cell_type": "code",
   "execution_count": 2,
   "metadata": {
    "collapsed": true
   },
   "outputs": [],
   "source": [
    "batch_size = 512\n",
    "\n",
    "train_images_path = keras.utils.get_file('train-images-idx3-ubyte.gz', 'https://raw.githubusercontent.com/zalandoresearch/fashion-mnist/master/data/fashion/train-images-idx3-ubyte.gz')\n",
    "train_labels_path = keras.utils.get_file('train-labels-idx1-ubyte.gz', 'https://raw.githubusercontent.com/zalandoresearch/fashion-mnist/master/data/fashion/train-labels-idx1-ubyte.gz')\n",
    "test_images_path = keras.utils.get_file('t10k-images-idx3-ubyte.gz', 'https://raw.githubusercontent.com/zalandoresearch/fashion-mnist/master/data/fashion/t10k-images-idx3-ubyte.gz')\n",
    "test_labels_path = keras.utils.get_file('t10k-labels-idx1-ubyte.gz', 'https://raw.githubusercontent.com/zalandoresearch/fashion-mnist/master/data/fashion/t10k-labels-idx1-ubyte.gz')\n"
   ]
  },
  {
   "cell_type": "code",
   "execution_count": 3,
   "metadata": {
    "collapsed": true
   },
   "outputs": [],
   "source": [
    "def load_mnist(images_path, labels_path):\n",
    "    import os\n",
    "    import gzip\n",
    "    import numpy as np\n",
    "\n",
    "    with gzip.open(labels_path, 'rb') as lbpath:\n",
    "        labels = np.frombuffer(lbpath.read(), dtype=np.uint8,\n",
    "                               offset=8)\n",
    "\n",
    "    with gzip.open(images_path, 'rb') as imgpath:\n",
    "        images = np.frombuffer(imgpath.read(), dtype=np.uint8,\n",
    "                               offset=16).reshape(len(labels), 784)\n",
    "\n",
    "    return images, labels"
   ]
  },
  {
   "cell_type": "code",
   "execution_count": 4,
   "metadata": {
    "collapsed": true
   },
   "outputs": [],
   "source": [
    "X_train_orig, y_train_orig = load_mnist(train_images_path, train_labels_path)\n",
    "X_test, y_test = load_mnist(test_images_path, test_labels_path)\n",
    "X_train_orig = X_train_orig.astype('float32')\n",
    "X_test = X_test.astype('float32')\n",
    "X_train_orig /= 255\n",
    "X_test /= 255"
   ]
  },
  {
   "cell_type": "code",
   "execution_count": 5,
   "metadata": {},
   "outputs": [
    {
     "name": "stdout",
     "output_type": "stream",
     "text": [
      "(60000, 784)\n",
      "(60000,)\n",
      "(10000, 784)\n",
      "(10000,)\n"
     ]
    }
   ],
   "source": [
    "print(X_train_orig.shape)\n",
    "print(y_train_orig.shape)\n",
    "print(X_test.shape)\n",
    "print(y_test.shape)\n"
   ]
  },
  {
   "cell_type": "code",
   "execution_count": 6,
   "metadata": {
    "collapsed": true
   },
   "outputs": [],
   "source": [
    "from sklearn.model_selection import train_test_split\n",
    "X_train, X_val, y_train, y_val = train_test_split(X_train_orig, y_train_orig, test_size=0.2, random_state=12345)"
   ]
  },
  {
   "cell_type": "code",
   "execution_count": 7,
   "metadata": {},
   "outputs": [
    {
     "name": "stdout",
     "output_type": "stream",
     "text": [
      "(48000, 784)\n",
      "(48000,)\n",
      "(12000, 784)\n",
      "(12000,)\n"
     ]
    }
   ],
   "source": [
    "print(X_train.shape)\n",
    "print(y_train.shape)\n",
    "print(X_val.shape)\n",
    "print(y_val.shape)\n"
   ]
  },
  {
   "cell_type": "code",
   "execution_count": 8,
   "metadata": {},
   "outputs": [
    {
     "data": {
      "text/plain": [
       "<matplotlib.image.AxesImage at 0x1a2ef3c898>"
      ]
     },
     "execution_count": 8,
     "metadata": {},
     "output_type": "execute_result"
    },
    {
     "data": {
      "image/png": "[encoded data removed]",
      "text/plain": [
       "<matplotlib.figure.Figure at 0x1814d5eb00>"
      ]
     },
     "metadata": {},
     "output_type": "display_data"
    }
   ],
   "source": [
    "plt.imshow(X_train[1, :].reshape((28, 28)))\n"
   ]
  },
  {
   "cell_type": "code",
   "execution_count": 9,
   "metadata": {
    "collapsed": true
   },
   "outputs": [],
   "source": [
    "# CNN with 1 Convolutional Layer"
   ]
  },
  {
   "cell_type": "code",
   "execution_count": 10,
   "metadata": {
    "collapsed": true
   },
   "outputs": [],
   "source": [
    "img_rows = 28\n",
    "img_cols = 28\n",
    "input_shape = (img_rows, img_cols, 1)\n",
    "X_train = X_train.reshape(X_train.shape[0], img_rows, img_cols, 1)\n",
    "X_test = X_test.reshape(X_test.shape[0], img_rows, img_cols, 1)\n",
    "X_val = X_val.reshape(X_val.shape[0], img_rows, img_cols, 1)\n"
   ]
  },
  {
   "cell_type": "code",
   "execution_count": 11,
   "metadata": {
    "collapsed": true
   },
   "outputs": [],
   "source": [
    "cnn1 = Sequential([\n",
    "    Conv2D(32, kernel_size=(3, 3), activation='relu', input_shape=input_shape),\n",
    "    MaxPooling2D(pool_size=(2, 2)),\n",
    "    Dropout(0.2),\n",
    "    Flatten(),\n",
    "    Dense(128, activation='relu'),\n",
    "    Dense(10, activation='softmax')])"
   ]
  },
  {
   "cell_type": "code",
   "execution_count": 12,
   "metadata": {
    "collapsed": true
   },
   "outputs": [],
   "source": [
    "cnn1.compile(loss='sparse_categorical_crossentropy',\n",
    "              optimizer=Adam(lr=0.001),\n",
    "              metrics=['accuracy'])"
   ]
  },
  {
   "cell_type": "code",
   "execution_count": 13,
   "metadata": {},
   "outputs": [
    {
     "name": "stdout",
     "output_type": "stream",
     "text": [
      "Train on 48000 samples, validate on 12000 samples\n",
      "Epoch 1/10\n",
      "48000/48000 [==============================] - 22s 452us/step - loss: 0.6292 - acc: 0.7854 - val_loss: 0.4130 - val_acc: 0.8573\n",
      "Epoch 2/10\n",
      "48000/48000 [==============================] - 22s 459us/step - loss: 0.3971 - acc: 0.8609 - val_loss: 0.3575 - val_acc: 0.8743\n",
      "Epoch 3/10\n",
      "48000/48000 [==============================] - 23s 487us/step - loss: 0.3529 - acc: 0.8758 - val_loss: 0.3289 - val_acc: 0.8852\n",
      "Epoch 4/10\n",
      "48000/48000 [==============================] - 21s 439us/step - loss: 0.3236 - acc: 0.8869 - val_loss: 0.3096 - val_acc: 0.8916\n",
      "Epoch 5/10\n",
      "48000/48000 [==============================] - 22s 463us/step - loss: 0.3054 - acc: 0.8903 - val_loss: 0.2842 - val_acc: 0.9013\n",
      "Epoch 6/10\n",
      "48000/48000 [==============================] - 22s 457us/step - loss: 0.2847 - acc: 0.8980 - val_loss: 0.2721 - val_acc: 0.9073\n",
      "Epoch 7/10\n",
      "48000/48000 [==============================] - 21s 446us/step - loss: 0.2729 - acc: 0.9014 - val_loss: 0.2610 - val_acc: 0.9092\n",
      "Epoch 8/10\n",
      "48000/48000 [==============================] - 22s 455us/step - loss: 0.2612 - acc: 0.9068 - val_loss: 0.2560 - val_acc: 0.9105\n",
      "Epoch 9/10\n",
      "48000/48000 [==============================] - 21s 441us/step - loss: 0.2491 - acc: 0.9113 - val_loss: 0.2568 - val_acc: 0.9111\n",
      "Epoch 10/10\n",
      "48000/48000 [==============================] - 19s 397us/step - loss: 0.2398 - acc: 0.9130 - val_loss: 0.2519 - val_acc: 0.9099\n"
     ]
    },
    {
     "data": {
      "text/plain": [
       "<keras.callbacks.History at 0x1a2f364f60>"
      ]
     },
     "execution_count": 13,
     "metadata": {},
     "output_type": "execute_result"
    }
   ],
   "source": [
    "cnn1.fit(X_train, y_train,\n",
    "          batch_size=batch_size,\n",
    "          epochs=10,\n",
    "          verbose=1,\n",
    "          validation_data=(X_val, y_val))"
   ]
  },
  {
   "cell_type": "code",
   "execution_count": 14,
   "metadata": {
    "collapsed": true
   },
   "outputs": [],
   "source": [
    "cnn1.optimizer.lr = 0.0001"
   ]
  },
  {
   "cell_type": "code",
   "execution_count": 15,
   "metadata": {},
   "outputs": [
    {
     "name": "stdout",
     "output_type": "stream",
     "text": [
      "Train on 48000 samples, validate on 12000 samples\n",
      "Epoch 1/10\n",
      "48000/48000 [==============================] - 19s 401us/step - loss: 0.2297 - acc: 0.9164 - val_loss: 0.2468 - val_acc: 0.9136\n",
      "Epoch 2/10\n",
      "48000/48000 [==============================] - 20s 424us/step - loss: 0.2253 - acc: 0.9172 - val_loss: 0.2369 - val_acc: 0.9170\n",
      "Epoch 3/10\n",
      "48000/48000 [==============================] - 19s 394us/step - loss: 0.2181 - acc: 0.9207 - val_loss: 0.2329 - val_acc: 0.9178\n",
      "Epoch 4/10\n",
      "48000/48000 [==============================] - 19s 394us/step - loss: 0.2073 - acc: 0.9244 - val_loss: 0.2336 - val_acc: 0.9181\n",
      "Epoch 5/10\n",
      "48000/48000 [==============================] - 19s 393us/step - loss: 0.1987 - acc: 0.9287 - val_loss: 0.2416 - val_acc: 0.9131\n",
      "Epoch 6/10\n",
      "48000/48000 [==============================] - 19s 394us/step - loss: 0.1968 - acc: 0.9280 - val_loss: 0.2250 - val_acc: 0.9211\n",
      "Epoch 7/10\n",
      "48000/48000 [==============================] - 19s 393us/step - loss: 0.1877 - acc: 0.9308 - val_loss: 0.2249 - val_acc: 0.9203\n",
      "Epoch 8/10\n",
      "48000/48000 [==============================] - 19s 398us/step - loss: 0.1844 - acc: 0.9331 - val_loss: 0.2241 - val_acc: 0.9228\n",
      "Epoch 9/10\n",
      "48000/48000 [==============================] - 19s 405us/step - loss: 0.1749 - acc: 0.9375 - val_loss: 0.2182 - val_acc: 0.9243\n",
      "Epoch 10/10\n",
      "48000/48000 [==============================] - 20s 420us/step - loss: 0.1720 - acc: 0.9372 - val_loss: 0.2205 - val_acc: 0.9240\n"
     ]
    },
    {
     "data": {
      "text/plain": [
       "<keras.callbacks.History at 0x182362c0f0>"
      ]
     },
     "execution_count": 15,
     "metadata": {},
     "output_type": "execute_result"
    }
   ],
   "source": [
    "cnn1.fit(X_train, y_train,\n",
    "          batch_size=batch_size,\n",
    "          epochs=10,\n",
    "          verbose=1,\n",
    "          validation_data=(X_val, y_val))"
   ]
  },
  {
   "cell_type": "code",
   "execution_count": 16,
   "metadata": {},
   "outputs": [
    {
     "name": "stdout",
     "output_type": "stream",
     "text": [
      "Test loss: 0.2557422494411469\n",
      "Test accuracy: 0.9101\n"
     ]
    }
   ],
   "source": [
    "score = cnn1.evaluate(X_test, y_test, verbose=0)\n",
    "print('Test loss:', score[0])\n",
    "print('Test accuracy:', score[1])"
   ]
  },
  {
   "cell_type": "code",
   "execution_count": 17,
   "metadata": {
    "collapsed": true
   },
   "outputs": [],
   "source": [
    "# Data Augmentation"
   ]
  },
  {
   "cell_type": "code",
   "execution_count": 18,
   "metadata": {
    "collapsed": true
   },
   "outputs": [],
   "source": [
    "gen = ImageDataGenerator(rotation_range=8, width_shift_range=0.08, shear_range=0.3,\n",
    "                               height_shift_range=0.08, zoom_range=0.08)\n",
    "batches = gen.flow(X_train, y_train, batch_size=batch_size)\n",
    "val_batches = gen.flow(X_val, y_val, batch_size=batch_size)"
   ]
  },
  {
   "cell_type": "code",
   "execution_count": 19,
   "metadata": {},
   "outputs": [
    {
     "name": "stdout",
     "output_type": "stream",
     "text": [
      "Epoch 1/50\n",
      "93/93 [==============================] - 27s 288ms/step - loss: 0.4757 - acc: 0.8228 - val_loss: 0.4029 - val_acc: 0.8525\n",
      "Epoch 2/50\n",
      "93/93 [==============================] - 26s 283ms/step - loss: 0.4126 - acc: 0.8460 - val_loss: 0.3727 - val_acc: 0.8640\n",
      "Epoch 3/50\n",
      "93/93 [==============================] - 28s 296ms/step - loss: 0.3949 - acc: 0.8517 - val_loss: 0.3635 - val_acc: 0.8669\n",
      "Epoch 4/50\n",
      "93/93 [==============================] - 27s 295ms/step - loss: 0.3773 - acc: 0.8585 - val_loss: 0.3544 - val_acc: 0.8699\n",
      "Epoch 5/50\n",
      "93/93 [==============================] - 31s 336ms/step - loss: 0.3674 - acc: 0.8648 - val_loss: 0.3449 - val_acc: 0.8753\n",
      "Epoch 6/50\n",
      "93/93 [==============================] - 30s 319ms/step - loss: 0.3579 - acc: 0.8684 - val_loss: 0.3393 - val_acc: 0.8786\n",
      "Epoch 7/50\n",
      "93/93 [==============================] - 29s 312ms/step - loss: 0.3547 - acc: 0.8685 - val_loss: 0.3307 - val_acc: 0.8828\n",
      "Epoch 8/50\n",
      "93/93 [==============================] - 28s 303ms/step - loss: 0.3474 - acc: 0.8713 - val_loss: 0.3160 - val_acc: 0.8865\n",
      "Epoch 9/50\n",
      "93/93 [==============================] - 27s 288ms/step - loss: 0.3437 - acc: 0.8719 - val_loss: 0.3276 - val_acc: 0.8807\n",
      "Epoch 10/50\n",
      "93/93 [==============================] - 27s 296ms/step - loss: 0.3375 - acc: 0.8761 - val_loss: 0.3276 - val_acc: 0.8774\n",
      "Epoch 11/50\n",
      "93/93 [==============================] - 35s 379ms/step - loss: 0.3331 - acc: 0.8758 - val_loss: 0.3121 - val_acc: 0.8869\n",
      "Epoch 12/50\n",
      "93/93 [==============================] - 29s 314ms/step - loss: 0.3311 - acc: 0.8776 - val_loss: 0.3064 - val_acc: 0.8865\n",
      "Epoch 13/50\n",
      "93/93 [==============================] - 31s 338ms/step - loss: 0.3287 - acc: 0.8784 - val_loss: 0.3113 - val_acc: 0.8855\n",
      "Epoch 14/50\n",
      "93/93 [==============================] - 37s 402ms/step - loss: 0.3223 - acc: 0.8794 - val_loss: 0.3038 - val_acc: 0.8899\n",
      "Epoch 15/50\n",
      "93/93 [==============================] - 49s 524ms/step - loss: 0.3173 - acc: 0.8818 - val_loss: 0.2973 - val_acc: 0.8915\n",
      "Epoch 16/50\n",
      "93/93 [==============================] - 45s 484ms/step - loss: 0.3180 - acc: 0.8833 - val_loss: 0.2970 - val_acc: 0.8930\n",
      "Epoch 17/50\n",
      "93/93 [==============================] - 50s 539ms/step - loss: 0.3099 - acc: 0.8842 - val_loss: 0.2983 - val_acc: 0.8919\n",
      "Epoch 18/50\n",
      "93/93 [==============================] - 45s 485ms/step - loss: 0.3081 - acc: 0.8855 - val_loss: 0.3080 - val_acc: 0.8885\n",
      "Epoch 19/50\n",
      "93/93 [==============================] - 45s 479ms/step - loss: 0.3081 - acc: 0.8853 - val_loss: 0.2956 - val_acc: 0.8924\n",
      "Epoch 20/50\n",
      "93/93 [==============================] - 45s 486ms/step - loss: 0.3038 - acc: 0.8874 - val_loss: 0.2920 - val_acc: 0.8945\n",
      "Epoch 21/50\n",
      "93/93 [==============================] - 44s 473ms/step - loss: 0.3030 - acc: 0.8870 - val_loss: 0.2932 - val_acc: 0.8936\n",
      "Epoch 22/50\n",
      "93/93 [==============================] - 39s 417ms/step - loss: 0.3027 - acc: 0.8889 - val_loss: 0.2939 - val_acc: 0.8915\n",
      "Epoch 23/50\n",
      "93/93 [==============================] - 38s 406ms/step - loss: 0.3013 - acc: 0.8873 - val_loss: 0.2879 - val_acc: 0.8934\n",
      "Epoch 24/50\n",
      "93/93 [==============================] - 39s 417ms/step - loss: 0.2955 - acc: 0.8917 - val_loss: 0.2825 - val_acc: 0.9009\n",
      "Epoch 25/50\n",
      "93/93 [==============================] - 36s 386ms/step - loss: 0.2935 - acc: 0.8911 - val_loss: 0.2876 - val_acc: 0.8972\n",
      "Epoch 26/50\n",
      "93/93 [==============================] - 36s 384ms/step - loss: 0.2897 - acc: 0.8936 - val_loss: 0.2810 - val_acc: 0.9003\n",
      "Epoch 27/50\n",
      "93/93 [==============================] - 37s 398ms/step - loss: 0.2847 - acc: 0.8951 - val_loss: 0.2848 - val_acc: 0.8965\n",
      "Epoch 28/50\n",
      "93/93 [==============================] - 50s 535ms/step - loss: 0.2840 - acc: 0.8938 - val_loss: 0.2799 - val_acc: 0.8985\n",
      "Epoch 29/50\n",
      "93/93 [==============================] - 42s 447ms/step - loss: 0.2880 - acc: 0.8922 - val_loss: 0.2711 - val_acc: 0.9038\n",
      "Epoch 30/50\n",
      "93/93 [==============================] - 36s 384ms/step - loss: 0.2867 - acc: 0.8930 - val_loss: 0.2801 - val_acc: 0.8998\n",
      "Epoch 31/50\n",
      "93/93 [==============================] - 39s 420ms/step - loss: 0.2831 - acc: 0.8946 - val_loss: 0.2731 - val_acc: 0.9026\n",
      "Epoch 32/50\n",
      "93/93 [==============================] - 37s 397ms/step - loss: 0.2848 - acc: 0.8936 - val_loss: 0.2802 - val_acc: 0.9017\n",
      "Epoch 33/50\n",
      "93/93 [==============================] - 37s 402ms/step - loss: 0.2804 - acc: 0.8952 - val_loss: 0.2694 - val_acc: 0.9034\n",
      "Epoch 34/50\n",
      "93/93 [==============================] - 37s 403ms/step - loss: 0.2750 - acc: 0.8979 - val_loss: 0.2761 - val_acc: 0.9014\n",
      "Epoch 35/50\n",
      "93/93 [==============================] - 37s 398ms/step - loss: 0.2714 - acc: 0.8987 - val_loss: 0.2770 - val_acc: 0.8996\n",
      "Epoch 36/50\n",
      "93/93 [==============================] - 37s 401ms/step - loss: 0.2795 - acc: 0.8966 - val_loss: 0.2713 - val_acc: 0.9010\n",
      "Epoch 37/50\n",
      "93/93 [==============================] - 31s 334ms/step - loss: 0.2748 - acc: 0.8976 - val_loss: 0.2728 - val_acc: 0.9029\n",
      "Epoch 38/50\n",
      "93/93 [==============================] - 23s 251ms/step - loss: 0.2702 - acc: 0.8988 - val_loss: 0.2635 - val_acc: 0.9028\n",
      "Epoch 39/50\n",
      "93/93 [==============================] - 23s 252ms/step - loss: 0.2722 - acc: 0.8981 - val_loss: 0.2652 - val_acc: 0.9053\n",
      "Epoch 40/50\n",
      "93/93 [==============================] - 23s 247ms/step - loss: 0.2688 - acc: 0.9003 - val_loss: 0.2712 - val_acc: 0.9034\n",
      "Epoch 41/50\n",
      "93/93 [==============================] - 24s 253ms/step - loss: 0.2721 - acc: 0.8998 - val_loss: 0.2660 - val_acc: 0.9033\n",
      "Epoch 42/50\n",
      "93/93 [==============================] - 22s 239ms/step - loss: 0.2662 - acc: 0.9000 - val_loss: 0.2576 - val_acc: 0.9047\n",
      "Epoch 43/50\n",
      "93/93 [==============================] - 22s 239ms/step - loss: 0.2652 - acc: 0.9003 - val_loss: 0.2656 - val_acc: 0.9042\n",
      "Epoch 44/50\n",
      "93/93 [==============================] - 28s 298ms/step - loss: 0.2635 - acc: 0.9027 - val_loss: 0.2621 - val_acc: 0.9060\n",
      "Epoch 45/50\n",
      "93/93 [==============================] - 23s 244ms/step - loss: 0.2620 - acc: 0.9033 - val_loss: 0.2719 - val_acc: 0.9061\n",
      "Epoch 46/50\n",
      "93/93 [==============================] - 21s 227ms/step - loss: 0.2629 - acc: 0.9024 - val_loss: 0.2626 - val_acc: 0.9064\n",
      "Epoch 47/50\n",
      "93/93 [==============================] - 21s 226ms/step - loss: 0.2648 - acc: 0.9019 - val_loss: 0.2644 - val_acc: 0.9041\n",
      "Epoch 48/50\n",
      "93/93 [==============================] - 21s 227ms/step - loss: 0.2599 - acc: 0.9034 - val_loss: 0.2627 - val_acc: 0.9074\n",
      "Epoch 49/50\n",
      "93/93 [==============================] - 27s 287ms/step - loss: 0.2595 - acc: 0.9044 - val_loss: 0.2544 - val_acc: 0.9093\n",
      "Epoch 50/50\n",
      "93/93 [==============================] - 25s 266ms/step - loss: 0.2614 - acc: 0.9019 - val_loss: 0.2571 - val_acc: 0.9070\n"
     ]
    },
    {
     "data": {
      "text/plain": [
       "<keras.callbacks.History at 0x1a2f7a8940>"
      ]
     },
     "execution_count": 19,
     "metadata": {},
     "output_type": "execute_result"
    }
   ],
   "source": [
    "cnn1.fit_generator(batches, steps_per_epoch=48000//batch_size, epochs=50,\n",
    "                    validation_data=val_batches, validation_steps=12000//batch_size, use_multiprocessing=True)"
   ]
  },
  {
   "cell_type": "code",
   "execution_count": 20,
   "metadata": {},
   "outputs": [
    {
     "name": "stdout",
     "output_type": "stream",
     "text": [
      "Test loss: 0.24125416670441627\n",
      "Test accuracy: 0.9156\n"
     ]
    }
   ],
   "source": [
    "score = cnn1.evaluate(X_test, y_test, verbose=0)\n",
    "print('Test loss:', score[0])\n",
    "print('Test accuracy:', score[1])\n"
   ]
  },
  {
   "cell_type": "code",
   "execution_count": 22,
   "metadata": {},
   "outputs": [
    {
     "name": "stdout",
     "output_type": "stream",
     "text": [
      "_________________________________________________________________\n",
      "Layer (type)                 Output Shape              Param #   \n",
      "=================================================================\n",
      "conv2d_1 (Conv2D)            (None, 26, 26, 32)        320       \n",
      "_________________________________________________________________\n",
      "max_pooling2d_1 (MaxPooling2 (None, 13, 13, 32)        0         \n",
      "_________________________________________________________________\n",
      "dropout_1 (Dropout)          (None, 13, 13, 32)        0         \n",
      "_________________________________________________________________\n",
      "flatten_1 (Flatten)          (None, 5408)              0         \n",
      "_________________________________________________________________\n",
      "dense_1 (Dense)              (None, 128)               692352    \n",
      "_________________________________________________________________\n",
      "dense_2 (Dense)              (None, 10)                1290      \n",
      "=================================================================\n",
      "Total params: 693,962\n",
      "Trainable params: 693,962\n",
      "Non-trainable params: 0\n",
      "_________________________________________________________________\n"
     ]
    }
   ],
   "source": [
    "cnn1.summary()"
   ]
  },
  {
   "cell_type": "code",
   "execution_count": null,
   "metadata": {
    "collapsed": true
   },
   "outputs": [],
   "source": []
  }
 ],
 "metadata": {
  "kernelspec": {
   "display_name": "Python 3",
   "language": "python",
   "name": "python3"
  },
  "language_info": {
   "codemirror_mode": {
    "name": "ipython",
    "version": 3
   },
   "file_extension": ".py",
   "mimetype": "text/x-python",
   "name": "python",
   "nbconvert_exporter": "python",
   "pygments_lexer": "ipython3",
   "version": "3.6.3"
  }
 },
 "nbformat": 4,
 "nbformat_minor": 2
}
